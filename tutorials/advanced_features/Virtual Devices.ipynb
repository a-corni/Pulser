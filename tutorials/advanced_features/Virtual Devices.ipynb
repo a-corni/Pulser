{
 "cells": [
  {
   "cell_type": "markdown",
   "metadata": {},
   "source": [
    "# Devices and Virtual Devices"
   ]
  },
  {
   "cell_type": "code",
   "execution_count": 1,
   "metadata": {},
   "outputs": [],
   "source": [
    "import numpy as np\n",
    "from pulser.devices import Device, VirtualDevice, Chadoq2, MockDevice\n",
    "from pulser.channels import Rydberg, Raman, Microwave\n",
    "from pulser import Pulse, Sequence, Register"
   ]
  },
  {
   "cell_type": "markdown",
   "metadata": {},
   "source": [
    "## The `Device` class"
   ]
  },
  {
   "cell_type": "markdown",
   "metadata": {},
   "source": [
    "### Physical devices: example of Chadoq2"
   ]
  },
  {
   "cell_type": "markdown",
   "metadata": {},
   "source": [
    "Some physical devices are accessible on `pulser.devices`. These devices are instances of the `Device` class. Instances of this class are constrained by physical considerations, and all its properties have to be defined for it to be valid. Below is presented the specifications of the physical device `Chadoq2`, that are accessible via the `print_specs` method. "
   ]
  },
  {
   "cell_type": "code",
   "execution_count": 2,
   "metadata": {},
   "outputs": [
    {
     "name": "stdout",
     "output_type": "stream",
     "text": [
      "----------------------\n",
      "Chadoq2 Specifications\n",
      "----------------------\n",
      "\n",
      "Register parameters:\n",
      " - Dimensions: 2D\n",
      " - Rydberg level: 70\n",
      " - Maximum number of atoms: 100\n",
      " - Maximum distance from origin: 50 μm\n",
      " - Minimum distance between neighbouring atoms: 4 μm\n",
      " - Maximum layout filling fraction: 0.5\n",
      " - SLM Mask: Yes\n",
      "\n",
      "Channels:\n",
      " - 'rydberg_global': Rydberg.Global(Max Absolute Detuning: 125.66370614359172 rad/µs, Max Amplitude: 15.707963267948966 rad/µs, Clock period: 4 ns, Minimum pulse duration: 16 ns, Maximum pulse duration: 67108864 ns, Basis: 'ground-rydberg')\n",
      " - 'rydberg_local': Rydberg.Local(Max Absolute Detuning: 125.66370614359172 rad/µs, Max Amplitude: 62.83185307179586 rad/µs, Minimum retarget time: 220 ns, Fixed retarget time: 0 ns, Max targets: 1, Clock period: 4 ns, Minimum pulse duration: 16 ns, Maximum pulse duration: 67108864 ns, Basis: 'ground-rydberg')\n",
      " - 'raman_local': Raman.Local(Max Absolute Detuning: 125.66370614359172 rad/µs, Max Amplitude: 62.83185307179586 rad/µs, Minimum retarget time: 220 ns, Fixed retarget time: 0 ns, Max targets: 1, Clock period: 4 ns, Minimum pulse duration: 16 ns, Maximum pulse duration: 67108864 ns, Basis: 'digital')\n"
     ]
    }
   ],
   "source": [
    "# Dipslay Chadoq2's specifications\n",
    "Chadoq2.print_specs()"
   ]
  },
  {
   "cell_type": "markdown",
   "metadata": {},
   "source": [
    "### Defining your own physical device"
   ]
  },
  {
   "cell_type": "markdown",
   "metadata": {},
   "source": [
    "It is possible to define your own device using the `Device` class. For example, it could be of interest, as a mind game, to use a QPU having the same properties as `Chadoq2`, but with a higher dimension."
   ]
  },
  {
   "cell_type": "code",
   "execution_count": 3,
   "metadata": {},
   "outputs": [
    {
     "name": "stdout",
     "output_type": "stream",
     "text": [
      "-----------------------\n",
      "Chadoq3D Specifications\n",
      "-----------------------\n",
      "\n",
      "Register parameters:\n",
      " - Dimensions: 3D\n",
      " - Rydberg level: 70\n",
      " - Maximum number of atoms: 100\n",
      " - Maximum distance from origin: 50 μm\n",
      " - Minimum distance between neighbouring atoms: 4 μm\n",
      " - Maximum layout filling fraction: 0.5\n",
      " - SLM Mask: Yes\n",
      "\n",
      "Channels:\n",
      " - 'rydberg_global': Rydberg.Global(Max Absolute Detuning: 125.66370614359172 rad/µs, Max Amplitude: 15.707963267948966 rad/µs, Clock period: 4 ns, Minimum pulse duration: 16 ns, Maximum pulse duration: 67108864 ns, Basis: 'ground-rydberg')\n",
      " - 'rydberg_local': Rydberg.Local(Max Absolute Detuning: 125.66370614359172 rad/µs, Max Amplitude: 62.83185307179586 rad/µs, Minimum retarget time: 220 ns, Fixed retarget time: 0 ns, Max targets: 1, Clock period: 4 ns, Minimum pulse duration: 16 ns, Maximum pulse duration: 67108864 ns, Basis: 'ground-rydberg')\n",
      " - 'raman_local': Raman.Local(Max Absolute Detuning: 125.66370614359172 rad/µs, Max Amplitude: 62.83185307179586 rad/µs, Minimum retarget time: 220 ns, Fixed retarget time: 0 ns, Max targets: 1, Clock period: 4 ns, Minimum pulse duration: 16 ns, Maximum pulse duration: 67108864 ns, Basis: 'digital')\n"
     ]
    }
   ],
   "source": [
    "Chadoq3D = Device(\n",
    "    name=\"Chadoq3D\",\n",
    "    dimensions=3,  # dimensions=2 on Chadoq2\n",
    "    rydberg_level=70,\n",
    "    max_atom_num=100,\n",
    "    max_radial_distance=50,\n",
    "    min_atom_distance=4,\n",
    "    supports_slm_mask=True,\n",
    "    channel_objects=(\n",
    "        Rydberg.Global(\n",
    "            max_abs_detuning=2 * np.pi * 20,\n",
    "            max_amp=2 * np.pi * 2.5,\n",
    "            clock_period=4,\n",
    "            min_duration=16,\n",
    "            max_duration=2**26,\n",
    "        ),\n",
    "        Rydberg.Local(\n",
    "            max_abs_detuning=2 * np.pi * 20,\n",
    "            max_amp=2 * np.pi * 10,\n",
    "            min_retarget_interval=220,\n",
    "            fixed_retarget_t=0,\n",
    "            max_targets=1,\n",
    "            clock_period=4,\n",
    "            min_duration=16,\n",
    "            max_duration=2**26,\n",
    "        ),\n",
    "        Raman.Local(\n",
    "            max_abs_detuning=2 * np.pi * 20,\n",
    "            max_amp=2 * np.pi * 10,\n",
    "            min_retarget_interval=220,\n",
    "            fixed_retarget_t=0,\n",
    "            max_targets=1,\n",
    "            clock_period=4,\n",
    "            min_duration=16,\n",
    "            max_duration=2**26,\n",
    "        ),\n",
    "    ),\n",
    ")\n",
    "Chadoq3D.print_specs()"
   ]
  },
  {
   "cell_type": "markdown",
   "metadata": {},
   "source": [
    "It can also be relevant to add channels, such as `Microwave` that encodes the \"XY\" basis. The channels enabled on the device are defined in `channel_objects`. Their name can be defined in `channel_id`. If no name is provided, the name of the channels are automatically generated as `channeltype_adressing`. For example, the `Rydberg.Global` channel is automatically named `rydberg_global` in the specifications of `Chadoq2`."
   ]
  },
  {
   "cell_type": "code",
   "execution_count": 4,
   "metadata": {},
   "outputs": [
    {
     "name": "stdout",
     "output_type": "stream",
     "text": [
      "-------------------------\n",
      "Chadoq3DXY Specifications\n",
      "-------------------------\n",
      "\n",
      "Register parameters:\n",
      " - Dimensions: 3D\n",
      " - Rydberg level: 70\n",
      " - Maximum number of atoms: 100\n",
      " - Maximum distance from origin: 50 μm\n",
      " - Minimum distance between neighbouring atoms: 4 μm\n",
      " - Maximum layout filling fraction: 0.5\n",
      " - SLM Mask: Yes\n",
      "\n",
      "Channels:\n",
      " - 'ryd_glob': Rydberg.Global(Max Absolute Detuning: 125.66370614359172 rad/µs, Max Amplitude: 15.707963267948966 rad/µs, Clock period: 4 ns, Minimum pulse duration: 16 ns, Maximum pulse duration: 67108864 ns, Basis: 'ground-rydberg')\n",
      " - 'ryd_loc': Rydberg.Local(Max Absolute Detuning: 125.66370614359172 rad/µs, Max Amplitude: 62.83185307179586 rad/µs, Minimum retarget time: 220 ns, Fixed retarget time: 0 ns, Max targets: 1, Clock period: 4 ns, Minimum pulse duration: 16 ns, Maximum pulse duration: 67108864 ns, Basis: 'ground-rydberg')\n",
      " - 'ram_loc': Raman.Local(Max Absolute Detuning: 125.66370614359172 rad/µs, Max Amplitude: 62.83185307179586 rad/µs, Minimum retarget time: 220 ns, Fixed retarget time: 0 ns, Max targets: 1, Clock period: 4 ns, Minimum pulse duration: 16 ns, Maximum pulse duration: 67108864 ns, Basis: 'digital')\n",
      " - 'mw_glob': Microwave.Global(Max Absolute Detuning: 125.66370614359172 rad/µs, Max Amplitude: 15.707963267948966 rad/µs, Clock period: 4 ns, Minimum pulse duration: 16 ns, Maximum pulse duration: 67108864 ns, Basis: 'XY')\n"
     ]
    }
   ],
   "source": [
    "Chadoq3DXY = Device(\n",
    "    name=\"Chadoq3DXY\",\n",
    "    dimensions=3,  # dimensions=2 on Chadoq2\n",
    "    rydberg_level=70,\n",
    "    max_atom_num=100,\n",
    "    max_radial_distance=50,\n",
    "    min_atom_distance=4,\n",
    "    interaction_coeff_xy=3700.0,\n",
    "    supports_slm_mask=True,\n",
    "    channel_ids=(\"ryd_glob\", \"ryd_loc\", \"ram_loc\", \"mw_glob\"),\n",
    "    channel_objects=(\n",
    "        Rydberg.Global(\n",
    "            max_abs_detuning=2 * np.pi * 20,\n",
    "            max_amp=2 * np.pi * 2.5,\n",
    "            clock_period=4,\n",
    "            min_duration=16,\n",
    "            max_duration=2**26,\n",
    "        ),\n",
    "        Rydberg.Local(\n",
    "            max_abs_detuning=2 * np.pi * 20,\n",
    "            max_amp=2 * np.pi * 10,\n",
    "            min_retarget_interval=220,\n",
    "            fixed_retarget_t=0,\n",
    "            max_targets=1,\n",
    "            clock_period=4,\n",
    "            min_duration=16,\n",
    "            max_duration=2**26,\n",
    "        ),\n",
    "        Raman.Local(\n",
    "            max_abs_detuning=2 * np.pi * 20,\n",
    "            max_amp=2 * np.pi * 10,\n",
    "            min_retarget_interval=220,\n",
    "            fixed_retarget_t=0,\n",
    "            max_targets=1,\n",
    "            clock_period=4,\n",
    "            min_duration=16,\n",
    "            max_duration=2**26,\n",
    "        ),\n",
    "        Microwave.Global(\n",
    "            max_abs_detuning=2 * np.pi * 20,\n",
    "            max_amp=2 * np.pi * 2.5,\n",
    "            clock_period=4,\n",
    "            min_duration=16,\n",
    "            max_duration=2**26,\n",
    "        ),\n",
    "    ),\n",
    ")\n",
    "Chadoq3DXY.print_specs()"
   ]
  },
  {
   "cell_type": "markdown",
   "metadata": {},
   "source": [
    "Of course, the other parameters can be modified. However, all these parameters have to be defined and you cannot change the Rydberg level used in the device after having declared it. A more flexible way of defining a device on an emulator is to define an instance of the `VirtualDevice` class."
   ]
  },
  {
   "cell_type": "markdown",
   "metadata": {},
   "source": [
    "## The `VirtualDevice` class"
   ]
  },
  {
   "cell_type": "markdown",
   "metadata": {},
   "source": [
    "### Converting a Device in a Virtual Device"
   ]
  },
  {
   "cell_type": "markdown",
   "metadata": {},
   "source": [
    "The `VirtualDevice` class is useful to define a device to run on an emulator. As the device built in the previous cell `Chadoq3DXY` does not exist physically, it is better to create a virtual device to perform experiment with it. This is possible by using the `to_virtual` method."
   ]
  },
  {
   "cell_type": "code",
   "execution_count": 5,
   "metadata": {},
   "outputs": [
    {
     "name": "stdout",
     "output_type": "stream",
     "text": [
      "VirtualDevice(name='Chadoq3DXY', dimensions=3, rydberg_level=70, min_atom_distance=4, max_atom_num=100, max_radial_distance=50, interaction_coeff_xy=3700.0, supports_slm_mask=True, max_layout_filling=0.5, reusable_channels=True, channel_ids=('ryd_glob', 'ryd_loc', 'ram_loc', 'mw_glob'), channel_objects=(Rydberg.Global(Max Absolute Detuning: 125.66370614359172 rad/µs, Max Amplitude: 15.707963267948966 rad/µs, Clock period: 4 ns, Minimum pulse duration: 16 ns, Maximum pulse duration: 67108864 ns, Basis: 'ground-rydberg'), Rydberg.Local(Max Absolute Detuning: 125.66370614359172 rad/µs, Max Amplitude: 62.83185307179586 rad/µs, Minimum retarget time: 220 ns, Fixed retarget time: 0 ns, Max targets: 1, Clock period: 4 ns, Minimum pulse duration: 16 ns, Maximum pulse duration: 67108864 ns, Basis: 'ground-rydberg'), Raman.Local(Max Absolute Detuning: 125.66370614359172 rad/µs, Max Amplitude: 62.83185307179586 rad/µs, Minimum retarget time: 220 ns, Fixed retarget time: 0 ns, Max targets: 1, Clock period: 4 ns, Minimum pulse duration: 16 ns, Maximum pulse duration: 67108864 ns, Basis: 'digital'), Microwave.Global(Max Absolute Detuning: 125.66370614359172 rad/µs, Max Amplitude: 15.707963267948966 rad/µs, Clock period: 4 ns, Minimum pulse duration: 16 ns, Maximum pulse duration: 67108864 ns, Basis: 'XY')), _channels=())\n"
     ]
    }
   ],
   "source": [
    "# Converting the Device object in a VirtualDevice object\n",
    "VirtualChadoq3DXY = Chadoq3DXY.to_virtual(reusable_channels_to_virtual=True)\n",
    "print(VirtualChadoq3DXY)"
   ]
  },
  {
   "cell_type": "markdown",
   "metadata": {},
   "source": [
    "It is possible to manipulate the virtual device in a way that would not have been possible physically. These manipulations are the possible change of the Rydberg level used in the experiment and the possibility to call a channel multiple times in the same sequence."
   ]
  },
  {
   "cell_type": "code",
   "execution_count": 6,
   "metadata": {},
   "outputs": [
    {
     "name": "stdout",
     "output_type": "stream",
     "text": [
      "VirtualDevice(name='Chadoq3DXY', dimensions=3, rydberg_level=60, min_atom_distance=4, max_atom_num=100, max_radial_distance=50, interaction_coeff_xy=3700.0, supports_slm_mask=True, max_layout_filling=0.5, reusable_channels=True, channel_ids=('ryd_glob', 'ryd_loc', 'ram_loc', 'mw_glob'), channel_objects=(Rydberg.Global(Max Absolute Detuning: 125.66370614359172 rad/µs, Max Amplitude: 15.707963267948966 rad/µs, Clock period: 4 ns, Minimum pulse duration: 16 ns, Maximum pulse duration: 67108864 ns, Basis: 'ground-rydberg'), Rydberg.Local(Max Absolute Detuning: 125.66370614359172 rad/µs, Max Amplitude: 62.83185307179586 rad/µs, Minimum retarget time: 220 ns, Fixed retarget time: 0 ns, Max targets: 1, Clock period: 4 ns, Minimum pulse duration: 16 ns, Maximum pulse duration: 67108864 ns, Basis: 'ground-rydberg'), Raman.Local(Max Absolute Detuning: 125.66370614359172 rad/µs, Max Amplitude: 62.83185307179586 rad/µs, Minimum retarget time: 220 ns, Fixed retarget time: 0 ns, Max targets: 1, Clock period: 4 ns, Minimum pulse duration: 16 ns, Maximum pulse duration: 67108864 ns, Basis: 'digital'), Microwave.Global(Max Absolute Detuning: 125.66370614359172 rad/µs, Max Amplitude: 15.707963267948966 rad/µs, Clock period: 4 ns, Minimum pulse duration: 16 ns, Maximum pulse duration: 67108864 ns, Basis: 'XY')), _channels=())\n"
     ]
    }
   ],
   "source": [
    "# Changing the Rydberg level\n",
    "VirtualChadoq3DXY.change_rydberg_level(60)\n",
    "print(VirtualChadoq3DXY)"
   ]
  },
  {
   "cell_type": "code",
   "execution_count": 7,
   "metadata": {},
   "outputs": [
    {
     "name": "stdout",
     "output_type": "stream",
     "text": [
      "{'ch0': Raman.Local(Max Absolute Detuning: 125.66370614359172 rad/µs, Max Amplitude: 62.83185307179586 rad/µs, Minimum retarget time: 220 ns, Fixed retarget time: 0 ns, Max targets: 1, Clock period: 4 ns, Minimum pulse duration: 16 ns, Maximum pulse duration: 67108864 ns, Basis: 'digital'), 'ch1': Raman.Local(Max Absolute Detuning: 125.66370614359172 rad/µs, Max Amplitude: 62.83185307179586 rad/µs, Minimum retarget time: 220 ns, Fixed retarget time: 0 ns, Max targets: 1, Clock period: 4 ns, Minimum pulse duration: 16 ns, Maximum pulse duration: 67108864 ns, Basis: 'digital')}\n"
     ]
    }
   ],
   "source": [
    "# Creating a square register\n",
    "reg = Register.square(4, spacing=5)  # 4x4 array with atoms 5 um apart\n",
    "# Building a sequence with the register and the virtual device\n",
    "seq = Sequence(reg, VirtualChadoq3DXY)\n",
    "# Declare twice the channel \"ram_loc\"\n",
    "seq.declare_channel(\"ch0\", \"ram_loc\")\n",
    "seq.declare_channel(\"ch1\", \"ram_loc\")\n",
    "# Show the declared channels\n",
    "print(seq.declared_channels)"
   ]
  },
  {
   "cell_type": "markdown",
   "metadata": {},
   "source": [
    "### Building your own virtual device"
   ]
  },
  {
   "cell_type": "markdown",
   "metadata": {},
   "source": [
    "The `VirtualDevice` class is on the whole more permissive than the `Device` class. In fact, some parameters can be left undefined and easier devices can be built by creating a `VirtualDevice` instance. "
   ]
  },
  {
   "cell_type": "code",
   "execution_count": 8,
   "metadata": {},
   "outputs": [
    {
     "name": "stdout",
     "output_type": "stream",
     "text": [
      "VirtualDevice(name='BasicMockDevice', dimensions=2, rydberg_level=70, min_atom_distance=0, max_atom_num=None, max_radial_distance=None, interaction_coeff_xy=None, supports_slm_mask=True, max_layout_filling=0.5, reusable_channels=True, channel_ids=('rydberg_local', 'raman_local'), channel_objects=(Rydberg.Local(Max Absolute Detuning: None, Max Amplitude: None, Minimum retarget time: 0 ns, Fixed retarget time: 0 ns, Clock period: 1 ns, Minimum pulse duration: 1 ns, Basis: 'ground-rydberg'), Raman.Local(Max Absolute Detuning: None, Max Amplitude: None, Minimum retarget time: 0 ns, Fixed retarget time: 0 ns, Clock period: 1 ns, Minimum pulse duration: 1 ns, Basis: 'digital')), _channels=())\n"
     ]
    }
   ],
   "source": [
    "# This basic device can be used for digital quantum computing\n",
    "BasicMockDevice = VirtualDevice(\n",
    "    name=\"BasicMockDevice\",\n",
    "    dimensions=2,\n",
    "    rydberg_level=70,\n",
    "    channel_objects=(\n",
    "        Rydberg.Local(None, None, max_duration=None),\n",
    "        Raman.Local(None, None, max_duration=None),\n",
    "    ),\n",
    ")\n",
    "print(BasicMockDevice)"
   ]
  },
  {
   "cell_type": "markdown",
   "metadata": {},
   "source": [
    "Actually, there exists a virtual device with all functionalities, the `MockDevice`."
   ]
  },
  {
   "cell_type": "code",
   "execution_count": 9,
   "metadata": {},
   "outputs": [
    {
     "name": "stdout",
     "output_type": "stream",
     "text": [
      "VirtualDevice(name='MockDevice', dimensions=3, rydberg_level=70, min_atom_distance=0.0, max_atom_num=None, max_radial_distance=None, interaction_coeff_xy=3700.0, supports_slm_mask=True, max_layout_filling=0.5, reusable_channels=True, channel_ids=('rydberg_global', 'rydberg_local', 'raman_global', 'raman_local', 'mw_global'), channel_objects=(Rydberg.Global(Max Absolute Detuning: None, Max Amplitude: None, Clock period: 1 ns, Minimum pulse duration: 1 ns, Basis: 'ground-rydberg'), Rydberg.Local(Max Absolute Detuning: None, Max Amplitude: None, Minimum retarget time: 0 ns, Fixed retarget time: 0 ns, Clock period: 1 ns, Minimum pulse duration: 1 ns, Basis: 'ground-rydberg'), Raman.Global(Max Absolute Detuning: None, Max Amplitude: None, Clock period: 1 ns, Minimum pulse duration: 1 ns, Basis: 'digital'), Raman.Local(Max Absolute Detuning: None, Max Amplitude: None, Minimum retarget time: 0 ns, Fixed retarget time: 0 ns, Clock period: 1 ns, Minimum pulse duration: 1 ns, Basis: 'digital'), Microwave.Global(Max Absolute Detuning: None, Max Amplitude: None, Clock period: 1 ns, Minimum pulse duration: 1 ns, Basis: 'XY')), _channels=())\n"
     ]
    }
   ],
   "source": [
    "MyMockDevice = MockDevice\n",
    "print(MyMockDevice)"
   ]
  },
  {
   "cell_type": "code",
   "execution_count": null,
   "metadata": {},
   "outputs": [],
   "source": []
  }
 ],
 "metadata": {
  "kernelspec": {
   "display_name": "Python 3 (ipykernel)",
   "language": "python",
   "name": "python3"
  },
  "language_info": {
   "codemirror_mode": {
    "name": "ipython",
    "version": 3
   },
   "file_extension": ".py",
   "mimetype": "text/x-python",
   "name": "python",
   "nbconvert_exporter": "python",
   "pygments_lexer": "ipython3",
   "version": "3.8.15"
  },
  "vscode": {
   "interpreter": {
    "hash": "d7befc2b7128012c20acd62dabd11e354c11719f07d398d865d9fdabfc55d6a7"
   }
  }
 },
 "nbformat": 4,
 "nbformat_minor": 2
}
