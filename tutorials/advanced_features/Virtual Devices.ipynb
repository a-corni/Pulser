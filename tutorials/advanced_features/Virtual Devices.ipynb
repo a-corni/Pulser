{
 "cells": [
  {
   "cell_type": "markdown",
   "metadata": {},
   "source": [
    "# Devices and Virtual Devices"
   ]
  },
  {
   "cell_type": "code",
   "execution_count": 1,
   "metadata": {},
   "outputs": [],
   "source": [
    "import numpy as np\n",
    "from dataclasses import replace\n",
    "from pulser.devices import Device, VirtualDevice, Chadoq2, MockDevice\n",
    "from pulser.channels import Rydberg, Raman, Microwave\n",
    "from pulser import Pulse, Sequence, Register"
   ]
  },
  {
   "cell_type": "markdown",
   "metadata": {},
   "source": [
    "## Physical devices"
   ]
  },
  {
   "cell_type": "markdown",
   "metadata": {},
   "source": [
    "Some physical devices are accessible on `pulser.devices`. These devices are instances of the `Device` class. They are constrained by physical considerations and all their parameters are defined. Below is presented the specifications of the physical device `Chadoq2`, that are accessible via the `print_specs` method. "
   ]
  },
  {
   "cell_type": "code",
   "execution_count": 2,
   "metadata": {},
   "outputs": [
    {
     "name": "stdout",
     "output_type": "stream",
     "text": [
      "----------------------\n",
      "Chadoq2 Specifications\n",
      "----------------------\n",
      "\n",
      "Register parameters:\n",
      " - Dimensions: 2D\n",
      " - Rydberg level: 70\n",
      " - Maximum number of atoms: 100\n",
      " - Maximum distance from origin: 50 μm\n",
      " - Minimum distance between neighbouring atoms: 4 μm\n",
      " - Maximum layout filling fraction: 0.5\n",
      " - SLM Mask: Yes\n",
      "\n",
      "Channels:\n",
      " - 'rydberg_global': Rydberg.Global(Max Absolute Detuning: 125.66370614359172 rad/µs, Max Amplitude: 15.707963267948966 rad/µs, Clock period: 4 ns, Minimum pulse duration: 16 ns, Maximum pulse duration: 67108864 ns, Basis: 'ground-rydberg')\n",
      " - 'rydberg_local': Rydberg.Local(Max Absolute Detuning: 125.66370614359172 rad/µs, Max Amplitude: 62.83185307179586 rad/µs, Minimum retarget time: 220 ns, Fixed retarget time: 0 ns, Max targets: 1, Clock period: 4 ns, Minimum pulse duration: 16 ns, Maximum pulse duration: 67108864 ns, Basis: 'ground-rydberg')\n",
      " - 'raman_local': Raman.Local(Max Absolute Detuning: 125.66370614359172 rad/µs, Max Amplitude: 62.83185307179586 rad/µs, Minimum retarget time: 220 ns, Fixed retarget time: 0 ns, Max targets: 1, Clock period: 4 ns, Minimum pulse duration: 16 ns, Maximum pulse duration: 67108864 ns, Basis: 'digital')\n"
     ]
    }
   ],
   "source": [
    "# Dipslay Chadoq2's specifications\n",
    "Chadoq2.print_specs()"
   ]
  },
  {
   "cell_type": "markdown",
   "metadata": {},
   "source": [
    "## Virtual Devices"
   ]
  },
  {
   "cell_type": "markdown",
   "metadata": {},
   "source": [
    "### Converting a Device in a Virtual Device"
   ]
  },
  {
   "cell_type": "markdown",
   "metadata": {},
   "source": [
    "The `VirtualDevice` class is useful to define a device to run on an emulator. It can be interesting to configure an emulator behaving like `Chadoq2`. This emulator can be modified to test new physical features, like adding a dimension to the device or adding new channel types. It is possible to create a virtual device from an existing device by using the `to_virtual` method."
   ]
  },
  {
   "cell_type": "code",
   "execution_count": 3,
   "metadata": {},
   "outputs": [
    {
     "name": "stdout",
     "output_type": "stream",
     "text": [
      "VirtualDevice(name='Chadoq2', dimensions=2, rydberg_level=70, min_atom_distance=4, max_atom_num=100, max_radial_distance=50, interaction_coeff_xy=None, supports_slm_mask=True, max_layout_filling=0.5, reusable_channels=False, channel_ids=('rydberg_global', 'rydberg_local', 'raman_local'), channel_objects=(Rydberg.Global(Max Absolute Detuning: 125.66370614359172 rad/µs, Max Amplitude: 15.707963267948966 rad/µs, Clock period: 4 ns, Minimum pulse duration: 16 ns, Maximum pulse duration: 67108864 ns, Basis: 'ground-rydberg'), Rydberg.Local(Max Absolute Detuning: 125.66370614359172 rad/µs, Max Amplitude: 62.83185307179586 rad/µs, Minimum retarget time: 220 ns, Fixed retarget time: 0 ns, Max targets: 1, Clock period: 4 ns, Minimum pulse duration: 16 ns, Maximum pulse duration: 67108864 ns, Basis: 'ground-rydberg'), Raman.Local(Max Absolute Detuning: 125.66370614359172 rad/µs, Max Amplitude: 62.83185307179586 rad/µs, Minimum retarget time: 220 ns, Fixed retarget time: 0 ns, Max targets: 1, Clock period: 4 ns, Minimum pulse duration: 16 ns, Maximum pulse duration: 67108864 ns, Basis: 'digital')), _channels=())\n"
     ]
    }
   ],
   "source": [
    "# Converting the Device object in a VirtualDevice object\n",
    "VirtualChadoq = Chadoq2.to_virtual()\n",
    "print(VirtualChadoq)"
   ]
  },
  {
   "cell_type": "markdown",
   "metadata": {},
   "source": [
    "The function `dataclass.replace` can be used to create a new `VirtualDevice` having only some parameters changed. For instance, simulations can be run on a virtual device having the same properties as `Chadoq2` but allowing working in 3 dimensions."
   ]
  },
  {
   "cell_type": "code",
   "execution_count": 4,
   "metadata": {},
   "outputs": [
    {
     "name": "stdout",
     "output_type": "stream",
     "text": [
      "VirtualDevice(name='Chadoq2', dimensions=3, rydberg_level=70, min_atom_distance=4, max_atom_num=100, max_radial_distance=50, interaction_coeff_xy=None, supports_slm_mask=True, max_layout_filling=0.5, reusable_channels=False, channel_ids=('rydberg_global', 'rydberg_local', 'raman_local'), channel_objects=(Rydberg.Global(Max Absolute Detuning: 125.66370614359172 rad/µs, Max Amplitude: 15.707963267948966 rad/µs, Clock period: 4 ns, Minimum pulse duration: 16 ns, Maximum pulse duration: 67108864 ns, Basis: 'ground-rydberg'), Rydberg.Local(Max Absolute Detuning: 125.66370614359172 rad/µs, Max Amplitude: 62.83185307179586 rad/µs, Minimum retarget time: 220 ns, Fixed retarget time: 0 ns, Max targets: 1, Clock period: 4 ns, Minimum pulse duration: 16 ns, Maximum pulse duration: 67108864 ns, Basis: 'ground-rydberg'), Raman.Local(Max Absolute Detuning: 125.66370614359172 rad/µs, Max Amplitude: 62.83185307179586 rad/µs, Minimum retarget time: 220 ns, Fixed retarget time: 0 ns, Max targets: 1, Clock period: 4 ns, Minimum pulse duration: 16 ns, Maximum pulse duration: 67108864 ns, Basis: 'digital')), _channels=())\n"
     ]
    }
   ],
   "source": [
    "# Adding a dimension to the emulator\n",
    "VirtualChadoq3D = replace(VirtualChadoq, dimensions=3)\n",
    "print(VirtualChadoq3D)"
   ]
  },
  {
   "cell_type": "markdown",
   "metadata": {},
   "source": [
    "### Unrealistic parameters of a virtual device"
   ]
  },
  {
   "cell_type": "markdown",
   "metadata": {},
   "source": [
    "In a device, all the physical parameters are defined. As seen previously, these parameters can be modified using the `dataclass.replace`. There are also parameters that are unrealistic that can be changed to perform simulations. These manipulations are the possible change of the Rydberg level used in the experiment and the possibility to call a channel multiple times in the same sequence. Modifying the Rydberg has an impact on the coefficient $C_6$ (see https://github.com/pasqal-io/Pulser/blob/develop/pulser-core/pulser/devices/interaction_coefficients/C6_coeffs.json for the correspondance between the Rydberg level and $C_6$ coefficient)"
   ]
  },
  {
   "cell_type": "code",
   "execution_count": 11,
   "metadata": {},
   "outputs": [
    {
     "name": "stdout",
     "output_type": "stream",
     "text": [
      "VirtualDevice(name='Chadoq2', dimensions=3, rydberg_level=61, min_atom_distance=4, max_atom_num=100, max_radial_distance=50, interaction_coeff_xy=None, supports_slm_mask=True, max_layout_filling=0.5, reusable_channels=True, channel_ids=('rydberg_global', 'rydberg_local', 'raman_local'), channel_objects=(Rydberg.Global(Max Absolute Detuning: 125.66370614359172 rad/µs, Max Amplitude: 15.707963267948966 rad/µs, Clock period: 4 ns, Minimum pulse duration: 16 ns, Maximum pulse duration: 67108864 ns, Basis: 'ground-rydberg'), Rydberg.Local(Max Absolute Detuning: 125.66370614359172 rad/µs, Max Amplitude: 62.83185307179586 rad/µs, Minimum retarget time: 220 ns, Fixed retarget time: 0 ns, Max targets: 1, Clock period: 4 ns, Minimum pulse duration: 16 ns, Maximum pulse duration: 67108864 ns, Basis: 'ground-rydberg'), Raman.Local(Max Absolute Detuning: 125.66370614359172 rad/µs, Max Amplitude: 62.83185307179586 rad/µs, Minimum retarget time: 220 ns, Fixed retarget time: 0 ns, Max targets: 1, Clock period: 4 ns, Minimum pulse duration: 16 ns, Maximum pulse duration: 67108864 ns, Basis: 'digital')), _channels=())\n"
     ]
    }
   ],
   "source": [
    "# Changing the Rydberg level\n",
    "VirtualChadoq3D.change_rydberg_level(61)\n",
    "print(VirtualChadoq3D)"
   ]
  },
  {
   "cell_type": "code",
   "execution_count": 10,
   "metadata": {},
   "outputs": [
    {
     "name": "stdout",
     "output_type": "stream",
     "text": [
      "{'ch0': Raman.Local(Max Absolute Detuning: 125.66370614359172 rad/µs, Max Amplitude: 62.83185307179586 rad/µs, Minimum retarget time: 220 ns, Fixed retarget time: 0 ns, Max targets: 1, Clock period: 4 ns, Minimum pulse duration: 16 ns, Maximum pulse duration: 67108864 ns, Basis: 'digital'), 'ch1': Raman.Local(Max Absolute Detuning: 125.66370614359172 rad/µs, Max Amplitude: 62.83185307179586 rad/µs, Minimum retarget time: 220 ns, Fixed retarget time: 0 ns, Max targets: 1, Clock period: 4 ns, Minimum pulse duration: 16 ns, Maximum pulse duration: 67108864 ns, Basis: 'digital')}\n"
     ]
    }
   ],
   "source": [
    "# Enable the multiple declaration of a channel in a sequence\n",
    "VirtualChadoq3D = replace(VirtualChadoq3D, reusable_channels=True)\n",
    "# Creating a square register\n",
    "reg = Register.square(4, spacing=5)  # 4x4 array with atoms 5 um apart\n",
    "# Building a sequence with the register and the virtual device\n",
    "seq = Sequence(reg, VirtualChadoq3D)\n",
    "# Declare twice the channel \"ram_loc\"\n",
    "seq.declare_channel(\"ch0\", \"raman_local\")\n",
    "seq.declare_channel(\"ch1\", \"raman_local\")\n",
    "# Show the declared channels\n",
    "print(seq.declared_channels)"
   ]
  },
  {
   "cell_type": "markdown",
   "metadata": {},
   "source": [
    "### Building your own virtual device"
   ]
  },
  {
   "cell_type": "markdown",
   "metadata": {},
   "source": [
    "The `VirtualDevice` class is on the whole more permissive than the `Device` class. Actually, some parameters can be left undefined and simpler devices can be built with a `VirtualDevice` instance. It should at least have defined a `name`, a `dimension` and a `rydberg_level`."
   ]
  },
  {
   "cell_type": "code",
   "execution_count": 19,
   "metadata": {},
   "outputs": [
    {
     "name": "stdout",
     "output_type": "stream",
     "text": [
      "VirtualDevice(name='BasicMockDevice', dimensions=2, rydberg_level=61, min_atom_distance=0, max_atom_num=None, max_radial_distance=None, interaction_coeff_xy=None, supports_slm_mask=True, max_layout_filling=0.5, reusable_channels=True, channel_ids=(), channel_objects=(), _channels=())\n"
     ]
    }
   ],
   "source": [
    "BasicVirtualDevice = VirtualDevice(\n",
    "    name=\"BasicMockDevice\",\n",
    "    dimensions=2,\n",
    "    rydberg_level=61,\n",
    ")\n",
    "print(BasicVirtualDevice)"
   ]
  },
  {
   "cell_type": "markdown",
   "metadata": {},
   "source": [
    "The channels enabled on the device are defined in `channel_objects`. Their name can be defined in `channel_id`. If no name is provided, the name of the channels are automatically generated as `channeltype_adressing`. For example, the `Rydberg.Global` channel is automatically named `rydberg_global` in the specifications of `Chadoq2`."
   ]
  },
  {
   "cell_type": "code",
   "execution_count": 20,
   "metadata": {},
   "outputs": [
    {
     "name": "stdout",
     "output_type": "stream",
     "text": [
      "VirtualDevice(name='BasicMockDevice', dimensions=2, rydberg_level=61, min_atom_distance=0, max_atom_num=None, max_radial_distance=None, interaction_coeff_xy=None, supports_slm_mask=True, max_layout_filling=0.5, reusable_channels=True, channel_ids=('ryd_loc', 'ram_loc'), channel_objects=(Rydberg.Local(Max Absolute Detuning: None, Max Amplitude: None, Minimum retarget time: 0 ns, Fixed retarget time: 0 ns, Clock period: 1 ns, Minimum pulse duration: 1 ns, Basis: 'ground-rydberg'), Raman.Local(Max Absolute Detuning: None, Max Amplitude: None, Minimum retarget time: 0 ns, Fixed retarget time: 0 ns, Clock period: 1 ns, Minimum pulse duration: 1 ns, Basis: 'digital')), _channels=())\n"
     ]
    }
   ],
   "source": [
    "# This basic device can be used for digital quantum computing\n",
    "DQCVirtualDevice = replace(\n",
    "    BasicVirtualDevice,\n",
    "    channel_ids=(\n",
    "        \"ryd_loc\",\n",
    "        \"ram_loc\",\n",
    "    ),\n",
    "    channel_objects=(\n",
    "        Rydberg.Local(None, None, max_duration=None),\n",
    "        Raman.Local(None, None, max_duration=None),\n",
    "    ),\n",
    ")\n",
    "print(DQCVirtualDevice)"
   ]
  },
  {
   "cell_type": "markdown",
   "metadata": {},
   "source": [
    "Actually, there exists a virtual device having all the channels already implemented, with no constraints on the number of atoms, the distance between them. This virtual device is the `MockDevice`."
   ]
  },
  {
   "cell_type": "code",
   "execution_count": 9,
   "metadata": {},
   "outputs": [
    {
     "name": "stdout",
     "output_type": "stream",
     "text": [
      "VirtualDevice(name='MockDevice', dimensions=3, rydberg_level=70, min_atom_distance=0.0, max_atom_num=None, max_radial_distance=None, interaction_coeff_xy=3700.0, supports_slm_mask=True, max_layout_filling=0.5, reusable_channels=True, channel_ids=('rydberg_global', 'rydberg_local', 'raman_global', 'raman_local', 'mw_global'), channel_objects=(Rydberg.Global(Max Absolute Detuning: None, Max Amplitude: None, Clock period: 1 ns, Minimum pulse duration: 1 ns, Basis: 'ground-rydberg'), Rydberg.Local(Max Absolute Detuning: None, Max Amplitude: None, Minimum retarget time: 0 ns, Fixed retarget time: 0 ns, Clock period: 1 ns, Minimum pulse duration: 1 ns, Basis: 'ground-rydberg'), Raman.Global(Max Absolute Detuning: None, Max Amplitude: None, Clock period: 1 ns, Minimum pulse duration: 1 ns, Basis: 'digital'), Raman.Local(Max Absolute Detuning: None, Max Amplitude: None, Minimum retarget time: 0 ns, Fixed retarget time: 0 ns, Clock period: 1 ns, Minimum pulse duration: 1 ns, Basis: 'digital'), Microwave.Global(Max Absolute Detuning: None, Max Amplitude: None, Clock period: 1 ns, Minimum pulse duration: 1 ns, Basis: 'XY')), _channels=())\n"
     ]
    }
   ],
   "source": [
    "MyMockDevice = MockDevice\n",
    "print(MyMockDevice)"
   ]
  }
 ],
 "metadata": {
  "kernelspec": {
   "display_name": "Python 3 (ipykernel)",
   "language": "python",
   "name": "python3"
  },
  "language_info": {
   "codemirror_mode": {
    "name": "ipython",
    "version": 3
   },
   "file_extension": ".py",
   "mimetype": "text/x-python",
   "name": "python",
   "nbconvert_exporter": "python",
   "pygments_lexer": "ipython3",
   "version": "3.8.15"
  },
  "vscode": {
   "interpreter": {
    "hash": "d7befc2b7128012c20acd62dabd11e354c11719f07d398d865d9fdabfc55d6a7"
   }
  }
 },
 "nbformat": 4,
 "nbformat_minor": 2
}
